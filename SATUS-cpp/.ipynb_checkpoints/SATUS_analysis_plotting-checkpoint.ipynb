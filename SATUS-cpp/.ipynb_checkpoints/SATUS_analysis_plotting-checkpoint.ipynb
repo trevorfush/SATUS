{
 "cells": [
  {
   "cell_type": "code",
   "execution_count": 2,
   "id": "36916253",
   "metadata": {},
   "outputs": [],
   "source": [
    "import numpy as np\n",
    "import h5py\n",
    "import matplotlib.pyplot as plt\n",
    "%matplotlib inline\n",
    "from mpl_toolkits.axes_grid1 import make_axes_locatable\n",
    "from matplotlib.colors import SymLogNorm"
   ]
  },
  {
   "cell_type": "code",
   "execution_count": 3,
   "id": "4c0cb6a7",
   "metadata": {},
   "outputs": [],
   "source": [
    "cmap_dict = {\n",
    "    \"PhotCnt\"    : \"viridis\",\n",
    "    \"AbsCoeff\"   : \"hot\",\n",
    "    \"ScatCoeff\"  : \"plasma\",\n",
    "    \"AnisoCoeff\" : \"jet\"\n",
    "}"
   ]
  },
  {
   "cell_type": "markdown",
   "id": "2ac181a6",
   "metadata": {},
   "source": [
    "# Photon Count plot"
   ]
  },
  {
   "cell_type": "code",
   "execution_count": 15,
   "id": "c829c255",
   "metadata": {},
   "outputs": [
    {
     "data": {
      "text/plain": [
       "Text(0.5, 1.0, 'Photon Counts in Space')"
      ]
     },
     "execution_count": 15,
     "metadata": {},
     "output_type": "execute_result"
    },
    {
     "data": {
      "image/png": "[encoded data removed]",
      "text/plain": [
       "<Figure size 864x864 with 2 Axes>"
      ]
     },
     "metadata": {
      "needs_background": "light"
     },
     "output_type": "display_data"
    }
   ],
   "source": [
    "fname = \"abscoef.csv\"\n",
    "ds = np.genfromtxt(fname, delimiter=\",\")[:,:-1]\n",
    "\n",
    "fig, ax = plt.subplots(1,1,figsize=(12,12))\n",
    "\n",
    "im1 = ax.imshow(ds[:,:], cmap = cmap_dict[\"PhotCnt\"])\n",
    "\n",
    "divider1 = make_axes_locatable(ax)\n",
    "cax1 = divider1.append_axes(\"right\",size=\"5%\",pad=0.05)\n",
    "cbar1 = plt.colorbar(im1, cax=cax1)\n",
    "\n",
    "ax.set_xlabel(\"x1 [mm]\", fontsize=16)\n",
    "ax.set_ylabel(\"x2 [mm]\", fontsize=16)\n",
    "ax.set_title(\"Photon Counts in Space\", fontsize=16)"
   ]
  },
  {
   "cell_type": "code",
   "execution_count": 59,
   "id": "fccc2048",
   "metadata": {},
   "outputs": [
    {
     "name": "stdout",
     "output_type": "stream",
     "text": [
      "97.0\n"
     ]
    }
   ],
   "source": [
    "print(ds[:,:-1].max())"
   ]
  },
  {
   "cell_type": "code",
   "execution_count": 122,
   "id": "3b5a2e68",
   "metadata": {},
   "outputs": [],
   "source": [
    "for num in range(101):\n",
    "    fname = f\"OUTPUT_{str(num).zfill(4)}.csv\"\n",
    "    ds = np.genfromtxt(fname, delimiter=\",\")[:,:-1]\n",
    "    \n",
    "    fig, ax = plt.subplots(1,1,figsize=(8,8),facecolor=\"white\")\n",
    "\n",
    "    im1 = ax.imshow(ds[:,:], cmap = cmap_dict[\"PhotCnt\"])\n",
    "\n",
    "    divider1 = make_axes_locatable(ax)\n",
    "    cax1 = divider1.append_axes(\"right\",size=\"5%\",pad=0.05)\n",
    "    cbar1 = plt.colorbar(im1, cax=cax1)\n",
    "\n",
    "    ax.set_xlabel(\"x1 [mm]\", fontsize=16)\n",
    "    ax.set_ylabel(\"x2 [mm]\", fontsize=16)\n",
    "    ax.set_title(\"Photon Counts in Space\", fontsize=16)\n",
    "    \n",
    "    plt.savefig(f\"count_plot_{str(num).zfill(4)}.png\")\n",
    "    plt.close()"
   ]
  },
  {
   "cell_type": "code",
   "execution_count": null,
   "id": "54b35c94",
   "metadata": {},
   "outputs": [],
   "source": []
  }
 ],
 "metadata": {
  "kernelspec": {
   "display_name": "Python 3 (ipykernel)",
   "language": "python",
   "name": "python3"
  },
  "language_info": {
   "codemirror_mode": {
    "name": "ipython",
    "version": 3
   },
   "file_extension": ".py",
   "mimetype": "text/x-python",
   "name": "python",
   "nbconvert_exporter": "python",
   "pygments_lexer": "ipython3",
   "version": "3.9.12"
  }
 },
 "nbformat": 4,
 "nbformat_minor": 5
}
